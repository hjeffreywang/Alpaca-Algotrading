{
 "cells": [
  {
   "cell_type": "code",
   "execution_count": 1,
   "metadata": {},
   "outputs": [],
   "source": [
    "import datetime\n",
    "import numpy as np\n",
    "import talib as ta\n",
    "import alpaca_trade_api as tradeapi\n",
    "import time\n",
    "import sys\n",
    "sys.path.insert(0, '../')\n",
    "import pandas as pd\n",
    "from datetime import timedelta"
   ]
  },
  {
   "cell_type": "code",
   "execution_count": 2,
   "metadata": {},
   "outputs": [],
   "source": [
    "from config import key_id, secret_key\n",
    "from cross_signal import *"
   ]
  },
  {
   "cell_type": "code",
   "execution_count": 3,
   "metadata": {},
   "outputs": [],
   "source": [
    "#The url at the end is what makes a paper trading bot\n",
    "api = tradeapi.REST(key_id, secret_key)"
   ]
  },
  {
   "cell_type": "code",
   "execution_count": 4,
   "metadata": {},
   "outputs": [],
   "source": [
    "today = datetime.datetime.today().date() # or datetime.now to use local timezone\n",
    "daystart=pd.Timestamp(year=today.year, month=today.month, day=today.day, hour=0,tz='America/New_York').isoformat()"
   ]
  },
  {
   "cell_type": "code",
   "execution_count": 5,
   "metadata": {},
   "outputs": [],
   "source": [
    "#make sure to import these packages\n",
    "from pandas import DataFrame\n",
    "import talib.abstract as tab\n",
    "#abstract automatically extracts the columns and periods from the data itself, no input required\n",
    "\n",
    "\n",
    "\n",
    "#feel free to add or subtract more indicators for any other strategy you want to use\n",
    "def populateindicators(dataframe) -> DataFrame:\n",
    "        #exponential moving averages\n",
    "        \n",
    "        dataframe['emaclose'] = tab.EMA(dataframe, timeperiod=4, price='close')\n",
    "        dataframe['minusdi'] = tab.MINUS_DI(dataframe, timeperiod=14)\n",
    "        dataframe['plusdi'] = tab.PLUS_DI(dataframe, timeperiod=14)\n",
    "        \n",
    "        dataframe['rsi'] = tab.RSI(dataframe, timeperiod=14, price='close')\n",
    "        dataframe['adx'] = tab.ADX(dataframe)\n",
    "        dataframe['emapulse'] = ta.RSI(dataframe['emaclose'], timeperiod=3)\n",
    "        # required for graphing\n",
    "\n",
    "        return dataframe"
   ]
  },
  {
   "cell_type": "code",
   "execution_count": 6,
   "metadata": {},
   "outputs": [
    {
     "name": "stdout",
     "output_type": "stream",
     "text": [
      "ACTIVE\n"
     ]
    },
    {
     "data": {
      "text/plain": [
       "'37138.565'"
      ]
     },
     "execution_count": 6,
     "metadata": {},
     "output_type": "execute_result"
    }
   ],
   "source": [
    "account = api.get_account()\n",
    "print(account.status)\n",
    "account.buying_power"
   ]
  },
  {
   "cell_type": "code",
   "execution_count": 7,
   "metadata": {},
   "outputs": [],
   "source": [
    "barTimeframe = \"1Min\" # 1Min, 5Min, 15Min, 1H, 1D"
   ]
  },
  {
   "cell_type": "code",
   "execution_count": 8,
   "metadata": {},
   "outputs": [
    {
     "data": {
      "text/plain": [
       "'2021-01-29'"
      ]
     },
     "execution_count": 8,
     "metadata": {},
     "output_type": "execute_result"
    }
   ],
   "source": [
    "startdate = datetime.datetime.today().strftime(\"%Y-%m-%d\")\n",
    "startdate"
   ]
  },
  {
   "cell_type": "code",
   "execution_count": 9,
   "metadata": {},
   "outputs": [
    {
     "data": {
      "text/plain": [
       "1047"
      ]
     },
     "execution_count": 9,
     "metadata": {},
     "output_type": "execute_result"
    }
   ],
   "source": [
    "currenthour=time.localtime().tm_hour\n",
    "currentminute=time.localtime().tm_min\n",
    "currentsecond=time.localtime().tm_sec\n",
    "currenttime=currenthour*100+currentminute\n",
    "currenttimestamp=api.get_clock().timestamp\n",
    "currenttime"
   ]
  },
  {
   "cell_type": "code",
   "execution_count": 10,
   "metadata": {},
   "outputs": [
    {
     "data": {
      "text/plain": [
       "Quote({   'askexchange': 19,\n",
       "    'askprice': 294.98,\n",
       "    'asksize': 2,\n",
       "    'bidexchange': 8,\n",
       "    'bidprice': 293.5,\n",
       "    'bidsize': 1,\n",
       "    'timestamp': 1611946039695})"
      ]
     },
     "execution_count": 10,
     "metadata": {},
     "output_type": "execute_result"
    }
   ],
   "source": [
    "api.polygon.last_quote('GME')"
   ]
  },
  {
   "cell_type": "code",
   "execution_count": null,
   "metadata": {},
   "outputs": [],
   "source": []
  },
  {
   "cell_type": "code",
   "execution_count": 12,
   "metadata": {},
   "outputs": [
    {
     "name": "stdout",
     "output_type": "stream",
     "text": [
      "Sell GME\n",
      "Sell 2GME\n"
     ]
    },
    {
     "name": "stderr",
     "output_type": "stream",
     "text": [
      "sleep 3 seconds and retrying https://api.alpaca.markets/v2/orders/a129235a-6e53-4b2d-9837-a8fa32c80817 3 more time(s)...\n",
      "sleep 3 seconds and retrying https://api.alpaca.markets/v2/orders/a129235a-6e53-4b2d-9837-a8fa32c80817 3 more time(s)...\n",
      "sleep 3 seconds and retrying https://api.alpaca.markets/v2/orders/a129235a-6e53-4b2d-9837-a8fa32c80817 3 more time(s)...\n",
      "sleep 3 seconds and retrying https://api.alpaca.markets/v2/orders/a129235a-6e53-4b2d-9837-a8fa32c80817 3 more time(s)...\n",
      "sleep 3 seconds and retrying https://api.alpaca.markets/v2/orders/a129235a-6e53-4b2d-9837-a8fa32c80817 3 more time(s)...\n",
      "sleep 3 seconds and retrying https://api.alpaca.markets/v2/orders/a129235a-6e53-4b2d-9837-a8fa32c80817 3 more time(s)...\n",
      "sleep 3 seconds and retrying https://api.alpaca.markets/v2/orders/a129235a-6e53-4b2d-9837-a8fa32c80817 3 more time(s)...\n",
      "sleep 3 seconds and retrying https://api.alpaca.markets/v2/orders/a129235a-6e53-4b2d-9837-a8fa32c80817 3 more time(s)...\n",
      "sleep 3 seconds and retrying https://api.alpaca.markets/v2/orders/a129235a-6e53-4b2d-9837-a8fa32c80817 3 more time(s)...\n",
      "sleep 3 seconds and retrying https://api.alpaca.markets/v2/orders/a129235a-6e53-4b2d-9837-a8fa32c80817 3 more time(s)...\n",
      "sleep 3 seconds and retrying https://api.alpaca.markets/v2/orders/a129235a-6e53-4b2d-9837-a8fa32c80817 3 more time(s)...\n",
      "sleep 3 seconds and retrying https://api.alpaca.markets/v2/orders/a129235a-6e53-4b2d-9837-a8fa32c80817 3 more time(s)...\n",
      "sleep 3 seconds and retrying https://api.alpaca.markets/v2/orders/a129235a-6e53-4b2d-9837-a8fa32c80817 3 more time(s)...\n"
     ]
    },
    {
     "name": "stdout",
     "output_type": "stream",
     "text": [
      "Sell GME\n"
     ]
    },
    {
     "name": "stderr",
     "output_type": "stream",
     "text": [
      "sleep 3 seconds and retrying https://api.alpaca.markets/v2/orders/7dca8bd3-cd61-4873-b12b-e3582eb11602 3 more time(s)...\n",
      "sleep 3 seconds and retrying https://api.alpaca.markets/v2/orders/7dca8bd3-cd61-4873-b12b-e3582eb11602 3 more time(s)...\n",
      "sleep 3 seconds and retrying https://api.alpaca.markets/v2/orders/7dca8bd3-cd61-4873-b12b-e3582eb11602 3 more time(s)...\n",
      "sleep 3 seconds and retrying https://api.alpaca.markets/v2/orders/7dca8bd3-cd61-4873-b12b-e3582eb11602 3 more time(s)...\n",
      "sleep 3 seconds and retrying https://api.alpaca.markets/v2/orders/7dca8bd3-cd61-4873-b12b-e3582eb11602 3 more time(s)...\n",
      "sleep 3 seconds and retrying https://api.alpaca.markets/v2/orders/7dca8bd3-cd61-4873-b12b-e3582eb11602 3 more time(s)...\n",
      "sleep 3 seconds and retrying https://api.alpaca.markets/v2/orders/7dca8bd3-cd61-4873-b12b-e3582eb11602 3 more time(s)...\n",
      "sleep 3 seconds and retrying https://api.alpaca.markets/v2/orders/7dca8bd3-cd61-4873-b12b-e3582eb11602 3 more time(s)...\n",
      "sleep 3 seconds and retrying https://api.alpaca.markets/v2/orders/7dca8bd3-cd61-4873-b12b-e3582eb11602 3 more time(s)...\n",
      "sleep 3 seconds and retrying https://api.alpaca.markets/v2/orders/7dca8bd3-cd61-4873-b12b-e3582eb11602 3 more time(s)...\n",
      "sleep 3 seconds and retrying https://api.alpaca.markets/v2/orders/7dca8bd3-cd61-4873-b12b-e3582eb11602 3 more time(s)...\n",
      "sleep 3 seconds and retrying https://api.alpaca.markets/v2/orders/a129235a-6e53-4b2d-9837-a8fa32c80817 3 more time(s)...\n",
      "sleep 3 seconds and retrying https://api.alpaca.markets/v2/orders/7dca8bd3-cd61-4873-b12b-e3582eb11602 3 more time(s)...\n",
      "sleep 3 seconds and retrying https://api.alpaca.markets/v2/orders/7dca8bd3-cd61-4873-b12b-e3582eb11602 3 more time(s)...\n",
      "sleep 3 seconds and retrying https://api.alpaca.markets/v2/orders/7dca8bd3-cd61-4873-b12b-e3582eb11602 3 more time(s)...\n",
      "sleep 3 seconds and retrying https://api.alpaca.markets/v2/orders/7dca8bd3-cd61-4873-b12b-e3582eb11602 3 more time(s)...\n",
      "sleep 3 seconds and retrying https://api.alpaca.markets/v2/orders/7dca8bd3-cd61-4873-b12b-e3582eb11602 3 more time(s)...\n",
      "sleep 3 seconds and retrying https://api.alpaca.markets/v2/orders/7dca8bd3-cd61-4873-b12b-e3582eb11602 3 more time(s)...\n",
      "sleep 3 seconds and retrying https://api.alpaca.markets/v2/orders/7dca8bd3-cd61-4873-b12b-e3582eb11602 3 more time(s)...\n",
      "sleep 3 seconds and retrying https://api.alpaca.markets/v2/orders/7dca8bd3-cd61-4873-b12b-e3582eb11602 3 more time(s)...\n",
      "sleep 3 seconds and retrying https://api.alpaca.markets/v2/orders/a129235a-6e53-4b2d-9837-a8fa32c80817 3 more time(s)...\n",
      "sleep 3 seconds and retrying https://api.alpaca.markets/v2/orders/a129235a-6e53-4b2d-9837-a8fa32c80817 3 more time(s)...\n",
      "sleep 3 seconds and retrying https://api.alpaca.markets/v2/orders/7dca8bd3-cd61-4873-b12b-e3582eb11602 3 more time(s)...\n",
      "sleep 3 seconds and retrying https://api.alpaca.markets/v2/orders/7dca8bd3-cd61-4873-b12b-e3582eb11602 3 more time(s)...\n",
      "sleep 3 seconds and retrying https://api.alpaca.markets/v2/orders/7dca8bd3-cd61-4873-b12b-e3582eb11602 3 more time(s)...\n",
      "sleep 3 seconds and retrying https://api.alpaca.markets/v2/orders/7dca8bd3-cd61-4873-b12b-e3582eb11602 3 more time(s)...\n",
      "sleep 3 seconds and retrying https://api.alpaca.markets/v2/orders/a129235a-6e53-4b2d-9837-a8fa32c80817 3 more time(s)...\n",
      "sleep 3 seconds and retrying https://api.alpaca.markets/v2/orders/7dca8bd3-cd61-4873-b12b-e3582eb11602 3 more time(s)...\n",
      "sleep 3 seconds and retrying https://api.alpaca.markets/v2/orders/7dca8bd3-cd61-4873-b12b-e3582eb11602 3 more time(s)...\n",
      "sleep 3 seconds and retrying https://api.alpaca.markets/v2/orders/7dca8bd3-cd61-4873-b12b-e3582eb11602 3 more time(s)...\n",
      "sleep 3 seconds and retrying https://api.alpaca.markets/v2/orders/7dca8bd3-cd61-4873-b12b-e3582eb11602 3 more time(s)...\n",
      "sleep 3 seconds and retrying https://api.alpaca.markets/v2/orders/7dca8bd3-cd61-4873-b12b-e3582eb11602 3 more time(s)...\n",
      "sleep 3 seconds and retrying https://api.alpaca.markets/v2/orders/a129235a-6e53-4b2d-9837-a8fa32c80817 3 more time(s)...\n",
      "sleep 3 seconds and retrying https://api.alpaca.markets/v2/orders/7dca8bd3-cd61-4873-b12b-e3582eb11602 3 more time(s)...\n",
      "sleep 3 seconds and retrying https://api.alpaca.markets/v2/orders/7dca8bd3-cd61-4873-b12b-e3582eb11602 3 more time(s)...\n",
      "sleep 3 seconds and retrying https://api.alpaca.markets/v2/orders/7dca8bd3-cd61-4873-b12b-e3582eb11602 3 more time(s)...\n",
      "sleep 3 seconds and retrying https://api.alpaca.markets/v2/orders/7dca8bd3-cd61-4873-b12b-e3582eb11602 3 more time(s)...\n",
      "sleep 3 seconds and retrying https://api.alpaca.markets/v2/orders/7dca8bd3-cd61-4873-b12b-e3582eb11602 3 more time(s)...\n",
      "sleep 3 seconds and retrying https://api.alpaca.markets/v2/orders/a129235a-6e53-4b2d-9837-a8fa32c80817 3 more time(s)...\n",
      "sleep 3 seconds and retrying https://api.alpaca.markets/v2/orders/7dca8bd3-cd61-4873-b12b-e3582eb11602 3 more time(s)...\n",
      "sleep 3 seconds and retrying https://api.alpaca.markets/v2/orders/7dca8bd3-cd61-4873-b12b-e3582eb11602 3 more time(s)...\n",
      "sleep 3 seconds and retrying https://api.alpaca.markets/v2/orders/7dca8bd3-cd61-4873-b12b-e3582eb11602 3 more time(s)...\n",
      "sleep 3 seconds and retrying https://api.alpaca.markets/v2/orders/7dca8bd3-cd61-4873-b12b-e3582eb11602 3 more time(s)...\n",
      "sleep 3 seconds and retrying https://api.alpaca.markets/v2/orders/7dca8bd3-cd61-4873-b12b-e3582eb11602 3 more time(s)...\n",
      "sleep 3 seconds and retrying https://api.alpaca.markets/v2/orders/7dca8bd3-cd61-4873-b12b-e3582eb11602 3 more time(s)...\n",
      "sleep 3 seconds and retrying https://api.alpaca.markets/v2/orders/7dca8bd3-cd61-4873-b12b-e3582eb11602 3 more time(s)...\n",
      "sleep 3 seconds and retrying https://api.alpaca.markets/v2/orders/7dca8bd3-cd61-4873-b12b-e3582eb11602 3 more time(s)...\n",
      "sleep 3 seconds and retrying https://api.alpaca.markets/v2/orders/7dca8bd3-cd61-4873-b12b-e3582eb11602 3 more time(s)...\n",
      "sleep 3 seconds and retrying https://api.alpaca.markets/v2/orders/7dca8bd3-cd61-4873-b12b-e3582eb11602 3 more time(s)...\n",
      "sleep 3 seconds and retrying https://api.alpaca.markets/v2/orders/7dca8bd3-cd61-4873-b12b-e3582eb11602 3 more time(s)...\n",
      "sleep 3 seconds and retrying https://api.alpaca.markets/v2/orders/7dca8bd3-cd61-4873-b12b-e3582eb11602 3 more time(s)...\n",
      "sleep 3 seconds and retrying https://api.alpaca.markets/v2/orders/7dca8bd3-cd61-4873-b12b-e3582eb11602 3 more time(s)...\n",
      "sleep 3 seconds and retrying https://api.alpaca.markets/v2/orders/7dca8bd3-cd61-4873-b12b-e3582eb11602 3 more time(s)...\n",
      "sleep 3 seconds and retrying https://api.alpaca.markets/v2/orders/7dca8bd3-cd61-4873-b12b-e3582eb11602 3 more time(s)...\n",
      "sleep 3 seconds and retrying https://api.alpaca.markets/v2/orders/7dca8bd3-cd61-4873-b12b-e3582eb11602 3 more time(s)...\n",
      "sleep 3 seconds and retrying https://api.alpaca.markets/v2/orders/a129235a-6e53-4b2d-9837-a8fa32c80817 3 more time(s)...\n",
      "sleep 3 seconds and retrying https://api.alpaca.markets/v2/orders/7dca8bd3-cd61-4873-b12b-e3582eb11602 3 more time(s)...\n",
      "sleep 3 seconds and retrying https://api.alpaca.markets/v2/orders/7dca8bd3-cd61-4873-b12b-e3582eb11602 3 more time(s)...\n",
      "sleep 3 seconds and retrying https://api.alpaca.markets/v2/orders/7dca8bd3-cd61-4873-b12b-e3582eb11602 3 more time(s)...\n",
      "sleep 3 seconds and retrying https://api.alpaca.markets/v2/orders/7dca8bd3-cd61-4873-b12b-e3582eb11602 3 more time(s)...\n",
      "sleep 3 seconds and retrying https://api.alpaca.markets/v2/orders/a129235a-6e53-4b2d-9837-a8fa32c80817 3 more time(s)...\n",
      "sleep 3 seconds and retrying https://api.alpaca.markets/v2/orders/7dca8bd3-cd61-4873-b12b-e3582eb11602 3 more time(s)...\n",
      "sleep 3 seconds and retrying https://api.alpaca.markets/v2/orders/a129235a-6e53-4b2d-9837-a8fa32c80817 3 more time(s)...\n",
      "sleep 3 seconds and retrying https://api.alpaca.markets/v2/orders/7dca8bd3-cd61-4873-b12b-e3582eb11602 3 more time(s)...\n",
      "sleep 3 seconds and retrying https://api.alpaca.markets/v2/orders/7dca8bd3-cd61-4873-b12b-e3582eb11602 3 more time(s)...\n",
      "sleep 3 seconds and retrying https://api.alpaca.markets/v2/orders/7dca8bd3-cd61-4873-b12b-e3582eb11602 3 more time(s)...\n",
      "sleep 3 seconds and retrying https://api.alpaca.markets/v2/orders/7dca8bd3-cd61-4873-b12b-e3582eb11602 3 more time(s)...\n",
      "sleep 3 seconds and retrying https://api.alpaca.markets/v2/orders/7dca8bd3-cd61-4873-b12b-e3582eb11602 3 more time(s)...\n"
     ]
    },
    {
     "name": "stderr",
     "output_type": "stream",
     "text": [
      "sleep 3 seconds and retrying https://api.alpaca.markets/v2/orders/a129235a-6e53-4b2d-9837-a8fa32c80817 3 more time(s)...\n",
      "sleep 3 seconds and retrying https://api.alpaca.markets/v2/orders/7dca8bd3-cd61-4873-b12b-e3582eb11602 3 more time(s)...\n",
      "sleep 3 seconds and retrying https://api.alpaca.markets/v2/orders/7dca8bd3-cd61-4873-b12b-e3582eb11602 3 more time(s)...\n",
      "sleep 3 seconds and retrying https://api.alpaca.markets/v2/orders/7dca8bd3-cd61-4873-b12b-e3582eb11602 3 more time(s)...\n",
      "sleep 3 seconds and retrying https://api.alpaca.markets/v2/orders/a129235a-6e53-4b2d-9837-a8fa32c80817 3 more time(s)...\n",
      "sleep 3 seconds and retrying https://api.alpaca.markets/v2/orders/7dca8bd3-cd61-4873-b12b-e3582eb11602 3 more time(s)...\n",
      "sleep 3 seconds and retrying https://api.alpaca.markets/v2/orders/7dca8bd3-cd61-4873-b12b-e3582eb11602 3 more time(s)...\n",
      "sleep 3 seconds and retrying https://api.alpaca.markets/v2/orders/a129235a-6e53-4b2d-9837-a8fa32c80817 3 more time(s)...\n",
      "sleep 3 seconds and retrying https://api.alpaca.markets/v2/orders/7dca8bd3-cd61-4873-b12b-e3582eb11602 3 more time(s)...\n",
      "sleep 3 seconds and retrying https://api.alpaca.markets/v2/orders/7dca8bd3-cd61-4873-b12b-e3582eb11602 3 more time(s)...\n",
      "sleep 3 seconds and retrying https://api.alpaca.markets/v2/orders/7dca8bd3-cd61-4873-b12b-e3582eb11602 3 more time(s)...\n",
      "sleep 3 seconds and retrying https://api.alpaca.markets/v2/orders/7dca8bd3-cd61-4873-b12b-e3582eb11602 3 more time(s)...\n",
      "sleep 3 seconds and retrying https://api.alpaca.markets/v2/orders/7dca8bd3-cd61-4873-b12b-e3582eb11602 3 more time(s)...\n",
      "sleep 3 seconds and retrying https://api.alpaca.markets/v2/orders/7dca8bd3-cd61-4873-b12b-e3582eb11602 3 more time(s)...\n",
      "sleep 3 seconds and retrying https://api.alpaca.markets/v2/orders/7dca8bd3-cd61-4873-b12b-e3582eb11602 3 more time(s)...\n",
      "sleep 3 seconds and retrying https://api.alpaca.markets/v2/orders/a129235a-6e53-4b2d-9837-a8fa32c80817 3 more time(s)...\n",
      "sleep 3 seconds and retrying https://api.alpaca.markets/v2/orders/7dca8bd3-cd61-4873-b12b-e3582eb11602 3 more time(s)...\n",
      "sleep 3 seconds and retrying https://api.alpaca.markets/v2/orders/7dca8bd3-cd61-4873-b12b-e3582eb11602 3 more time(s)...\n",
      "sleep 3 seconds and retrying https://api.alpaca.markets/v2/orders/a129235a-6e53-4b2d-9837-a8fa32c80817 3 more time(s)...\n",
      "sleep 3 seconds and retrying https://api.alpaca.markets/v2/orders/7dca8bd3-cd61-4873-b12b-e3582eb11602 3 more time(s)...\n",
      "sleep 3 seconds and retrying https://api.alpaca.markets/v2/orders/7dca8bd3-cd61-4873-b12b-e3582eb11602 3 more time(s)...\n",
      "sleep 3 seconds and retrying https://api.alpaca.markets/v2/orders/a129235a-6e53-4b2d-9837-a8fa32c80817 3 more time(s)...\n",
      "sleep 3 seconds and retrying https://api.alpaca.markets/v2/orders/7dca8bd3-cd61-4873-b12b-e3582eb11602 3 more time(s)...\n",
      "sleep 3 seconds and retrying https://api.alpaca.markets/v2/orders/7dca8bd3-cd61-4873-b12b-e3582eb11602 3 more time(s)...\n",
      "sleep 3 seconds and retrying https://api.alpaca.markets/v2/orders/a129235a-6e53-4b2d-9837-a8fa32c80817 3 more time(s)...\n",
      "sleep 3 seconds and retrying https://api.alpaca.markets/v2/orders/7dca8bd3-cd61-4873-b12b-e3582eb11602 3 more time(s)...\n",
      "sleep 3 seconds and retrying https://api.alpaca.markets/v2/orders/7dca8bd3-cd61-4873-b12b-e3582eb11602 3 more time(s)...\n",
      "sleep 3 seconds and retrying https://api.alpaca.markets/v2/orders/7dca8bd3-cd61-4873-b12b-e3582eb11602 3 more time(s)...\n",
      "sleep 3 seconds and retrying https://api.alpaca.markets/v2/orders/7dca8bd3-cd61-4873-b12b-e3582eb11602 3 more time(s)...\n",
      "sleep 3 seconds and retrying https://api.alpaca.markets/v2/orders/7dca8bd3-cd61-4873-b12b-e3582eb11602 3 more time(s)...\n",
      "sleep 3 seconds and retrying https://api.alpaca.markets/v2/orders/7dca8bd3-cd61-4873-b12b-e3582eb11602 3 more time(s)...\n",
      "sleep 3 seconds and retrying https://api.alpaca.markets/v2/orders/7dca8bd3-cd61-4873-b12b-e3582eb11602 3 more time(s)...\n",
      "sleep 3 seconds and retrying https://api.alpaca.markets/v2/orders/7dca8bd3-cd61-4873-b12b-e3582eb11602 3 more time(s)...\n",
      "sleep 3 seconds and retrying https://api.alpaca.markets/v2/orders/a129235a-6e53-4b2d-9837-a8fa32c80817 3 more time(s)...\n",
      "sleep 3 seconds and retrying https://api.alpaca.markets/v2/orders/7dca8bd3-cd61-4873-b12b-e3582eb11602 3 more time(s)...\n",
      "sleep 3 seconds and retrying https://api.alpaca.markets/v2/orders/7dca8bd3-cd61-4873-b12b-e3582eb11602 3 more time(s)...\n",
      "sleep 3 seconds and retrying https://api.alpaca.markets/v2/orders/a129235a-6e53-4b2d-9837-a8fa32c80817 3 more time(s)...\n",
      "sleep 3 seconds and retrying https://api.alpaca.markets/v2/orders/7dca8bd3-cd61-4873-b12b-e3582eb11602 3 more time(s)...\n",
      "sleep 3 seconds and retrying https://api.alpaca.markets/v2/orders/7dca8bd3-cd61-4873-b12b-e3582eb11602 3 more time(s)...\n",
      "sleep 3 seconds and retrying https://api.alpaca.markets/v2/orders/7dca8bd3-cd61-4873-b12b-e3582eb11602 3 more time(s)...\n",
      "sleep 3 seconds and retrying https://api.alpaca.markets/v2/orders/a129235a-6e53-4b2d-9837-a8fa32c80817 3 more time(s)...\n",
      "sleep 3 seconds and retrying https://api.alpaca.markets/v2/orders/7dca8bd3-cd61-4873-b12b-e3582eb11602 3 more time(s)...\n",
      "sleep 3 seconds and retrying https://api.alpaca.markets/v2/orders/7dca8bd3-cd61-4873-b12b-e3582eb11602 3 more time(s)...\n",
      "sleep 3 seconds and retrying https://api.alpaca.markets/v2/orders/a129235a-6e53-4b2d-9837-a8fa32c80817 3 more time(s)...\n",
      "sleep 3 seconds and retrying https://api.alpaca.markets/v2/orders/a129235a-6e53-4b2d-9837-a8fa32c80817 3 more time(s)...\n",
      "sleep 3 seconds and retrying https://api.alpaca.markets/v2/orders/7dca8bd3-cd61-4873-b12b-e3582eb11602 3 more time(s)...\n",
      "sleep 3 seconds and retrying https://api.alpaca.markets/v2/orders/7dca8bd3-cd61-4873-b12b-e3582eb11602 3 more time(s)...\n",
      "sleep 3 seconds and retrying https://api.alpaca.markets/v2/orders/7dca8bd3-cd61-4873-b12b-e3582eb11602 3 more time(s)...\n",
      "sleep 3 seconds and retrying https://api.alpaca.markets/v2/orders/7dca8bd3-cd61-4873-b12b-e3582eb11602 3 more time(s)...\n",
      "sleep 3 seconds and retrying https://api.alpaca.markets/v2/orders/7dca8bd3-cd61-4873-b12b-e3582eb11602 3 more time(s)...\n",
      "sleep 3 seconds and retrying https://api.alpaca.markets/v2/orders/7dca8bd3-cd61-4873-b12b-e3582eb11602 3 more time(s)...\n",
      "sleep 3 seconds and retrying https://api.alpaca.markets/v2/orders/7dca8bd3-cd61-4873-b12b-e3582eb11602 3 more time(s)...\n",
      "sleep 3 seconds and retrying https://api.alpaca.markets/v2/orders/7dca8bd3-cd61-4873-b12b-e3582eb11602 3 more time(s)...\n",
      "sleep 3 seconds and retrying https://api.alpaca.markets/v2/orders/a129235a-6e53-4b2d-9837-a8fa32c80817 3 more time(s)...\n",
      "sleep 3 seconds and retrying https://api.alpaca.markets/v2/orders/7dca8bd3-cd61-4873-b12b-e3582eb11602 3 more time(s)...\n",
      "sleep 3 seconds and retrying https://api.alpaca.markets/v2/orders/7dca8bd3-cd61-4873-b12b-e3582eb11602 3 more time(s)...\n",
      "sleep 3 seconds and retrying https://api.alpaca.markets/v2/orders/7dca8bd3-cd61-4873-b12b-e3582eb11602 3 more time(s)...\n",
      "sleep 3 seconds and retrying https://api.alpaca.markets/v2/orders/7dca8bd3-cd61-4873-b12b-e3582eb11602 3 more time(s)...\n",
      "sleep 3 seconds and retrying https://api.alpaca.markets/v2/orders/7dca8bd3-cd61-4873-b12b-e3582eb11602 3 more time(s)...\n",
      "sleep 3 seconds and retrying https://api.alpaca.markets/v2/orders/7dca8bd3-cd61-4873-b12b-e3582eb11602 3 more time(s)...\n",
      "sleep 3 seconds and retrying https://api.alpaca.markets/v2/orders/7dca8bd3-cd61-4873-b12b-e3582eb11602 3 more time(s)...\n",
      "sleep 3 seconds and retrying https://api.alpaca.markets/v2/orders/7dca8bd3-cd61-4873-b12b-e3582eb11602 3 more time(s)...\n",
      "sleep 3 seconds and retrying https://api.alpaca.markets/v2/orders/a129235a-6e53-4b2d-9837-a8fa32c80817 3 more time(s)...\n",
      "sleep 3 seconds and retrying https://api.alpaca.markets/v2/orders/a129235a-6e53-4b2d-9837-a8fa32c80817 3 more time(s)...\n",
      "sleep 3 seconds and retrying https://api.alpaca.markets/v2/orders/7dca8bd3-cd61-4873-b12b-e3582eb11602 3 more time(s)...\n",
      "sleep 3 seconds and retrying https://api.alpaca.markets/v2/orders/7dca8bd3-cd61-4873-b12b-e3582eb11602 3 more time(s)...\n",
      "sleep 3 seconds and retrying https://api.alpaca.markets/v2/orders/a129235a-6e53-4b2d-9837-a8fa32c80817 3 more time(s)...\n",
      "sleep 3 seconds and retrying https://api.alpaca.markets/v2/orders/a129235a-6e53-4b2d-9837-a8fa32c80817 3 more time(s)...\n"
     ]
    },
    {
     "name": "stderr",
     "output_type": "stream",
     "text": [
      "sleep 3 seconds and retrying https://api.alpaca.markets/v2/orders/7dca8bd3-cd61-4873-b12b-e3582eb11602 3 more time(s)...\n",
      "sleep 3 seconds and retrying https://api.alpaca.markets/v2/orders/7dca8bd3-cd61-4873-b12b-e3582eb11602 3 more time(s)...\n",
      "sleep 3 seconds and retrying https://api.alpaca.markets/v2/orders/a129235a-6e53-4b2d-9837-a8fa32c80817 3 more time(s)...\n",
      "sleep 3 seconds and retrying https://api.alpaca.markets/v2/orders/a129235a-6e53-4b2d-9837-a8fa32c80817 3 more time(s)...\n",
      "sleep 3 seconds and retrying https://api.alpaca.markets/v2/orders/7dca8bd3-cd61-4873-b12b-e3582eb11602 3 more time(s)...\n",
      "sleep 3 seconds and retrying https://api.alpaca.markets/v2/orders/7dca8bd3-cd61-4873-b12b-e3582eb11602 3 more time(s)...\n",
      "sleep 3 seconds and retrying https://api.alpaca.markets/v2/orders/7dca8bd3-cd61-4873-b12b-e3582eb11602 3 more time(s)...\n",
      "sleep 3 seconds and retrying https://api.alpaca.markets/v2/orders/7dca8bd3-cd61-4873-b12b-e3582eb11602 3 more time(s)...\n",
      "sleep 3 seconds and retrying https://api.alpaca.markets/v2/orders/a129235a-6e53-4b2d-9837-a8fa32c80817 3 more time(s)...\n",
      "sleep 3 seconds and retrying https://api.alpaca.markets/v2/orders/7dca8bd3-cd61-4873-b12b-e3582eb11602 3 more time(s)...\n",
      "sleep 3 seconds and retrying https://api.alpaca.markets/v2/orders/7dca8bd3-cd61-4873-b12b-e3582eb11602 3 more time(s)...\n",
      "sleep 3 seconds and retrying https://api.alpaca.markets/v2/orders/7dca8bd3-cd61-4873-b12b-e3582eb11602 3 more time(s)...\n",
      "sleep 3 seconds and retrying https://api.alpaca.markets/v2/orders/7dca8bd3-cd61-4873-b12b-e3582eb11602 3 more time(s)...\n",
      "sleep 3 seconds and retrying https://api.alpaca.markets/v2/orders/7dca8bd3-cd61-4873-b12b-e3582eb11602 3 more time(s)...\n",
      "sleep 3 seconds and retrying https://api.alpaca.markets/v2/orders/7dca8bd3-cd61-4873-b12b-e3582eb11602 3 more time(s)...\n",
      "sleep 3 seconds and retrying https://api.alpaca.markets/v2/orders/7dca8bd3-cd61-4873-b12b-e3582eb11602 3 more time(s)...\n",
      "sleep 3 seconds and retrying https://api.alpaca.markets/v2/orders/a129235a-6e53-4b2d-9837-a8fa32c80817 3 more time(s)...\n",
      "sleep 3 seconds and retrying https://api.alpaca.markets/v2/orders/a129235a-6e53-4b2d-9837-a8fa32c80817 3 more time(s)...\n",
      "sleep 3 seconds and retrying https://api.alpaca.markets/v2/orders/7dca8bd3-cd61-4873-b12b-e3582eb11602 3 more time(s)...\n",
      "sleep 3 seconds and retrying https://api.alpaca.markets/v2/orders/a129235a-6e53-4b2d-9837-a8fa32c80817 3 more time(s)...\n",
      "sleep 3 seconds and retrying https://api.alpaca.markets/v2/orders/a129235a-6e53-4b2d-9837-a8fa32c80817 3 more time(s)...\n",
      "sleep 3 seconds and retrying https://api.alpaca.markets/v2/orders/7dca8bd3-cd61-4873-b12b-e3582eb11602 3 more time(s)...\n",
      "sleep 3 seconds and retrying https://api.alpaca.markets/v2/orders/7dca8bd3-cd61-4873-b12b-e3582eb11602 3 more time(s)...\n",
      "sleep 3 seconds and retrying https://api.alpaca.markets/v2/orders/a129235a-6e53-4b2d-9837-a8fa32c80817 3 more time(s)...\n",
      "sleep 3 seconds and retrying https://api.alpaca.markets/v2/orders/7dca8bd3-cd61-4873-b12b-e3582eb11602 3 more time(s)...\n",
      "sleep 3 seconds and retrying https://api.alpaca.markets/v2/orders/7dca8bd3-cd61-4873-b12b-e3582eb11602 3 more time(s)...\n",
      "sleep 3 seconds and retrying https://api.alpaca.markets/v2/orders/7dca8bd3-cd61-4873-b12b-e3582eb11602 3 more time(s)...\n",
      "sleep 3 seconds and retrying https://api.alpaca.markets/v2/orders/7dca8bd3-cd61-4873-b12b-e3582eb11602 3 more time(s)...\n",
      "sleep 3 seconds and retrying https://api.alpaca.markets/v2/orders/7dca8bd3-cd61-4873-b12b-e3582eb11602 3 more time(s)...\n",
      "sleep 3 seconds and retrying https://api.alpaca.markets/v2/orders/7dca8bd3-cd61-4873-b12b-e3582eb11602 3 more time(s)...\n",
      "sleep 3 seconds and retrying https://api.alpaca.markets/v2/orders/7dca8bd3-cd61-4873-b12b-e3582eb11602 3 more time(s)...\n",
      "sleep 3 seconds and retrying https://api.alpaca.markets/v2/orders/7dca8bd3-cd61-4873-b12b-e3582eb11602 3 more time(s)...\n",
      "sleep 3 seconds and retrying https://api.alpaca.markets/v2/orders/7dca8bd3-cd61-4873-b12b-e3582eb11602 3 more time(s)...\n",
      "sleep 3 seconds and retrying https://api.alpaca.markets/v2/orders/7dca8bd3-cd61-4873-b12b-e3582eb11602 3 more time(s)...\n",
      "sleep 3 seconds and retrying https://api.alpaca.markets/v2/orders/7dca8bd3-cd61-4873-b12b-e3582eb11602 3 more time(s)...\n",
      "sleep 3 seconds and retrying https://api.alpaca.markets/v2/orders/7dca8bd3-cd61-4873-b12b-e3582eb11602 3 more time(s)...\n",
      "sleep 3 seconds and retrying https://api.alpaca.markets/v2/orders/7dca8bd3-cd61-4873-b12b-e3582eb11602 3 more time(s)...\n",
      "sleep 3 seconds and retrying https://api.alpaca.markets/v2/orders/7dca8bd3-cd61-4873-b12b-e3582eb11602 3 more time(s)...\n",
      "sleep 3 seconds and retrying https://api.alpaca.markets/v2/orders/a129235a-6e53-4b2d-9837-a8fa32c80817 3 more time(s)...\n",
      "sleep 3 seconds and retrying https://api.alpaca.markets/v2/orders/a129235a-6e53-4b2d-9837-a8fa32c80817 3 more time(s)...\n",
      "sleep 3 seconds and retrying https://api.alpaca.markets/v2/orders/7dca8bd3-cd61-4873-b12b-e3582eb11602 3 more time(s)...\n",
      "sleep 3 seconds and retrying https://api.alpaca.markets/v2/orders/7dca8bd3-cd61-4873-b12b-e3582eb11602 3 more time(s)...\n",
      "sleep 3 seconds and retrying https://api.alpaca.markets/v2/orders/a129235a-6e53-4b2d-9837-a8fa32c80817 3 more time(s)...\n",
      "sleep 3 seconds and retrying https://api.alpaca.markets/v2/orders/7dca8bd3-cd61-4873-b12b-e3582eb11602 3 more time(s)...\n",
      "sleep 3 seconds and retrying https://api.alpaca.markets/v2/orders/7dca8bd3-cd61-4873-b12b-e3582eb11602 3 more time(s)...\n",
      "sleep 3 seconds and retrying https://api.alpaca.markets/v2/orders/7dca8bd3-cd61-4873-b12b-e3582eb11602 3 more time(s)...\n",
      "sleep 3 seconds and retrying https://api.alpaca.markets/v2/orders/7dca8bd3-cd61-4873-b12b-e3582eb11602 3 more time(s)...\n",
      "sleep 3 seconds and retrying https://api.alpaca.markets/v2/orders/7dca8bd3-cd61-4873-b12b-e3582eb11602 3 more time(s)...\n",
      "sleep 3 seconds and retrying https://api.alpaca.markets/v2/orders/7dca8bd3-cd61-4873-b12b-e3582eb11602 3 more time(s)...\n",
      "sleep 3 seconds and retrying https://api.alpaca.markets/v2/orders/7dca8bd3-cd61-4873-b12b-e3582eb11602 3 more time(s)...\n",
      "sleep 3 seconds and retrying https://api.alpaca.markets/v2/orders/7dca8bd3-cd61-4873-b12b-e3582eb11602 3 more time(s)...\n",
      "sleep 3 seconds and retrying https://api.alpaca.markets/v2/orders/7dca8bd3-cd61-4873-b12b-e3582eb11602 3 more time(s)...\n",
      "sleep 3 seconds and retrying https://api.alpaca.markets/v2/orders/7dca8bd3-cd61-4873-b12b-e3582eb11602 3 more time(s)...\n",
      "sleep 3 seconds and retrying https://api.alpaca.markets/v2/orders/7dca8bd3-cd61-4873-b12b-e3582eb11602 3 more time(s)...\n",
      "sleep 3 seconds and retrying https://api.alpaca.markets/v2/orders/7dca8bd3-cd61-4873-b12b-e3582eb11602 3 more time(s)...\n",
      "sleep 3 seconds and retrying https://api.alpaca.markets/v2/orders/7dca8bd3-cd61-4873-b12b-e3582eb11602 3 more time(s)...\n",
      "sleep 3 seconds and retrying https://api.alpaca.markets/v2/orders/7dca8bd3-cd61-4873-b12b-e3582eb11602 3 more time(s)...\n",
      "sleep 3 seconds and retrying https://api.alpaca.markets/v2/orders/7dca8bd3-cd61-4873-b12b-e3582eb11602 3 more time(s)...\n",
      "sleep 3 seconds and retrying https://api.alpaca.markets/v2/orders/7dca8bd3-cd61-4873-b12b-e3582eb11602 3 more time(s)...\n",
      "sleep 3 seconds and retrying https://api.alpaca.markets/v2/orders/7dca8bd3-cd61-4873-b12b-e3582eb11602 3 more time(s)...\n",
      "sleep 3 seconds and retrying https://api.alpaca.markets/v2/orders/a129235a-6e53-4b2d-9837-a8fa32c80817 3 more time(s)...\n",
      "sleep 3 seconds and retrying https://api.alpaca.markets/v2/orders/7dca8bd3-cd61-4873-b12b-e3582eb11602 3 more time(s)...\n"
     ]
    },
    {
     "ename": "KeyboardInterrupt",
     "evalue": "",
     "output_type": "error",
     "traceback": [
      "\u001b[1;31m---------------------------------------------------------------------------\u001b[0m",
      "\u001b[1;31mKeyboardInterrupt\u001b[0m                         Traceback (most recent call last)",
      "\u001b[1;32m<ipython-input-12-e471582d2b10>\u001b[0m in \u001b[0;36m<module>\u001b[1;34m\u001b[0m\n\u001b[0;32m    105\u001b[0m \u001b[1;33m\u001b[0m\u001b[0m\n\u001b[0;32m    106\u001b[0m \u001b[1;33m\u001b[0m\u001b[0m\n\u001b[1;32m--> 107\u001b[1;33m     \u001b[0mtime\u001b[0m\u001b[1;33m.\u001b[0m\u001b[0msleep\u001b[0m\u001b[1;33m(\u001b[0m\u001b[1;36m1.5\u001b[0m\u001b[1;33m)\u001b[0m\u001b[1;33m\u001b[0m\u001b[0m\n\u001b[0m\u001b[0;32m    108\u001b[0m \u001b[1;32mif\u001b[0m \u001b[0mcurrenttime\u001b[0m \u001b[1;33m>=\u001b[0m\u001b[1;36m1030\u001b[0m\u001b[1;33m:\u001b[0m\u001b[1;33m\u001b[0m\u001b[0m\n\u001b[0;32m    109\u001b[0m     \u001b[0mtrade3\u001b[0m\u001b[1;33m=\u001b[0m\u001b[1;32mFalse\u001b[0m\u001b[1;33m\u001b[0m\u001b[0m\n",
      "\u001b[1;31mKeyboardInterrupt\u001b[0m: "
     ]
    }
   ],
   "source": [
    "#Limit sell all within a \n",
    "trade1=True\n",
    "trade2=False\n",
    "trade3=True\n",
    "buyordfillstatus=1\n",
    "buyordcancstatus=1\n",
    "buyord_avg_price=None\n",
    "boughtprice=None\n",
    "\n",
    "sellordfillstatus=1\n",
    "sellordcancstatus=1\n",
    "sellord_avg_price=None\n",
    "soldprice=310\n",
    "\n",
    "while trade3==True:\n",
    "    #\n",
    "    currenthour=time.localtime().tm_hour\n",
    "    currentminute=time.localtime().tm_min\n",
    "    currentsecond=time.localtime().tm_sec\n",
    "    currenttime=currenthour*100+currentminute\n",
    "    currenttimestamp=api.get_clock().timestamp\n",
    "    \n",
    "    if currenttime >=600 and currenttime <=1300: \n",
    "        try:\n",
    "            assetlist=api.list_positions()\n",
    "        except:\n",
    "            print('http error')\n",
    "        for asset in assetlist:\n",
    "                #if asset is in list of positions AND is more than 2.5% loss\n",
    "                # sell and turn that symbol to null\n",
    "            \n",
    "                if asset.symbol=='GME':\n",
    "                    symbol=asset.symbol                    \n",
    "                    quoten=api.polygon.last_quote(symbol)\n",
    "                    currentprice=quoten.askprice\n",
    "                    \n",
    "                    #update buy order status\n",
    "                    if buyordfillstatus == None or buyordcancstatus== None:\n",
    "                        buyordfillstatus=api.get_order(buyid).filled_at\n",
    "                        buyordcancstatus=api.get_order(buyid).canceled_at\n",
    "                    #update SELL order status\n",
    "                    if sellordfillstatus == None or sellordcancstatus== None:\n",
    "                        sellordfillstatus=api.get_order(sellid).filled_at\n",
    "                        sellordcancstatus=api.get_order(sellid).canceled_at\n",
    "                    \n",
    "                    #if buy order is cancelled, buy order goes\n",
    "                    if buyordcancstatus ==1:\n",
    "                        pass\n",
    "                    elif buyordcancstatus !=None:\n",
    "                        trade1=True\n",
    "                    \n",
    "                    #if buy order is filled, sell order goes\n",
    "                    if buyordfillstatus ==1:\n",
    "                        pass \n",
    "                    elif buyordfillstatus !=None:\n",
    "                        trade2=True\n",
    "                        buyordavg_price=api.get_order(buyid).filled_avg_price\n",
    "                        boughtprice=float(buyordavg_price)\n",
    "                        trade1=False\n",
    "                    \n",
    "                    #if sell order is cancelled, sell order goes\n",
    "                    if sellordcancstatus ==1:\n",
    "                        pass\n",
    "                    elif sellordcancstatus !=None:\n",
    "                        trade2=True\n",
    "                    \n",
    "                    \n",
    "                    #if sell order goes, buy order goes\n",
    "                    if sellordfillstatus ==1:\n",
    "                        pass \n",
    "                    elif sellordfillstatus !=None:\n",
    "                        trade1=True\n",
    "                        sellordavg_price=api.get_order(buyid).filled_avg_price\n",
    "                        soldprice=float(buyordavg_price)\n",
    "                        trade2=False\n",
    "                    \n",
    "                    if trade1==True and currentprice <= soldprice-5:\n",
    "                        #openPo/sition = api.get_position(asset.symbol)\n",
    "                        #asksize,bidsize,avgbidprice,avgaskprice=quotelister(quotes)\n",
    "                        returned = api.submit_order('GME',int(1),\"buy\",\"trailing_stop\",\"gtc\",trail_price=3) # Market order to fully close position\n",
    "                        print('buy '+symbol)\n",
    "                        trade1=False\n",
    "                        buyid=returned.id\n",
    "                        time.sleep(3)\n",
    "                        \n",
    "                        buyordfillstatus=api.get_order(buyid).filled_at\n",
    "                        buyordcancstatus=api.get_order(buyid).canceled_at\n",
    "                        buyordavg_price=api.get_order(buyid).filled_avg_price\n",
    "                        \n",
    "                        \n",
    "                    if trade2==True: \n",
    "                        if currentprice >= boughtprice+10:\n",
    "                            #openPo/sition = api.get_position(asset.symbol)\n",
    "                            #asksize,bidsize,avgbidprice,avgaskprice=quotelister(quotes)\n",
    "                            returned1 = api.submit_order('GME',int(1),\"sell\",\"trailing_stop\",\"gtc\",trail_price=5) # Market order to fully close position\n",
    "                            print('Sell 2'+symbol)\n",
    "                            trade2=False\n",
    "                            sellid=returned.id\n",
    "                            time.sleep(3)\n",
    "\n",
    "                            sellordfillstatus=api.get_order(sellid).filled_at\n",
    "                            sellordcancstatus=api.get_order(sellid).canceled_at\n",
    "                            sellordavg_price=api.get_order(sellid).filled_avg_price\n",
    "                            \n",
    "            \n",
    "\n",
    "    time.sleep(2)\n",
    "if currenttime >=1030:\n",
    "    trade3=False\n",
    "\n"
   ]
  },
  {
   "cell_type": "code",
   "execution_count": null,
   "metadata": {},
   "outputs": [],
   "source": [
    "api.get_order(buyid).cancelled_at"
   ]
  },
  {
   "cell_type": "code",
   "execution_count": null,
   "metadata": {},
   "outputs": [],
   "source": [
    "trade2"
   ]
  },
  {
   "cell_type": "code",
   "execution_count": null,
   "metadata": {},
   "outputs": [],
   "source": [
    "api.get_order('a8ff7377-4029-4b78-9b98-408b3aeb53d3')"
   ]
  },
  {
   "cell_type": "code",
   "execution_count": null,
   "metadata": {},
   "outputs": [],
   "source": []
  },
  {
   "cell_type": "code",
   "execution_count": null,
   "metadata": {},
   "outputs": [],
   "source": []
  }
 ],
 "metadata": {
  "kernelspec": {
   "display_name": "Python 3",
   "language": "python",
   "name": "python3"
  },
  "language_info": {
   "codemirror_mode": {
    "name": "ipython",
    "version": 3
   },
   "file_extension": ".py",
   "mimetype": "text/x-python",
   "name": "python",
   "nbconvert_exporter": "python",
   "pygments_lexer": "ipython3",
   "version": "3.6.5"
  }
 },
 "nbformat": 4,
 "nbformat_minor": 4
}
