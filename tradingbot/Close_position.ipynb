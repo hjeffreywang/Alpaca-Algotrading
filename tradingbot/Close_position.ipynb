{
 "cells": [
  {
   "cell_type": "code",
   "execution_count": 1,
   "metadata": {},
   "outputs": [],
   "source": [
    "import datetime\n",
    "import numpy as np\n",
    "import talib as ta\n",
    "import alpaca_trade_api as tradeapi\n",
    "import time\n",
    "import sys\n",
    "sys.path.insert(0, '../')\n",
    "import pandas as pd\n",
    "from datetime import timedelta"
   ]
  },
  {
   "cell_type": "code",
   "execution_count": 2,
   "metadata": {},
   "outputs": [],
   "source": [
    "from config import key_id, secret_key\n",
    "from cross_signal import *"
   ]
  },
  {
   "cell_type": "code",
   "execution_count": 3,
   "metadata": {},
   "outputs": [],
   "source": [
    "#The url at the end is what makes a paper trading bot\n",
    "api = tradeapi.REST(key_id, secret_key)"
   ]
  },
  {
   "cell_type": "code",
   "execution_count": 4,
   "metadata": {},
   "outputs": [],
   "source": [
    "today = datetime.datetime.today().date() # or datetime.now to use local timezone\n",
    "daystart=pd.Timestamp(year=today.year, month=today.month, day=today.day, hour=0,tz='America/New_York').isoformat()"
   ]
  },
  {
   "cell_type": "code",
   "execution_count": 5,
   "metadata": {},
   "outputs": [],
   "source": [
    "#make sure to import these packages\n",
    "from pandas import DataFrame\n",
    "import talib.abstract as tab\n",
    "#abstract automatically extracts the columns and periods from the data itself, no input required\n",
    "\n",
    "\n",
    "\n",
    "#feel free to add or subtract more indicators for any other strategy you want to use\n",
    "def populateindicators(dataframe) -> DataFrame:\n",
    "        #exponential moving averages\n",
    "        \n",
    "        dataframe['emaclose'] = tab.EMA(dataframe, timeperiod=4, price='close')\n",
    "        dataframe['minusdi'] = tab.MINUS_DI(dataframe, timeperiod=14)\n",
    "        dataframe['plusdi'] = tab.PLUS_DI(dataframe, timeperiod=14)\n",
    "        \n",
    "        dataframe['rsi'] = tab.RSI(dataframe, timeperiod=14, price='close')\n",
    "        dataframe['adx'] = tab.ADX(dataframe)\n",
    "        dataframe['emapulse'] = ta.RSI(dataframe['emaclose'], timeperiod=3)\n",
    "        # required for graphing\n",
    "\n",
    "        return dataframe"
   ]
  },
  {
   "cell_type": "code",
   "execution_count": 6,
   "metadata": {},
   "outputs": [
    {
     "name": "stdout",
     "output_type": "stream",
     "text": [
      "ACTIVE\n"
     ]
    },
    {
     "data": {
      "text/plain": [
       "'35905.653'"
      ]
     },
     "execution_count": 6,
     "metadata": {},
     "output_type": "execute_result"
    }
   ],
   "source": [
    "account = api.get_account()\n",
    "print(account.status)\n",
    "account.buying_power"
   ]
  },
  {
   "cell_type": "code",
   "execution_count": 7,
   "metadata": {},
   "outputs": [],
   "source": [
    "barTimeframe = \"1Min\" # 1Min, 5Min, 15Min, 1H, 1D"
   ]
  },
  {
   "cell_type": "code",
   "execution_count": 8,
   "metadata": {},
   "outputs": [
    {
     "data": {
      "text/plain": [
       "'2021-01-29'"
      ]
     },
     "execution_count": 8,
     "metadata": {},
     "output_type": "execute_result"
    }
   ],
   "source": [
    "startdate = datetime.datetime.today().strftime(\"%Y-%m-%d\")\n",
    "startdate"
   ]
  },
  {
   "cell_type": "code",
   "execution_count": 9,
   "metadata": {},
   "outputs": [
    {
     "data": {
      "text/plain": [
       "1139"
      ]
     },
     "execution_count": 9,
     "metadata": {},
     "output_type": "execute_result"
    }
   ],
   "source": [
    "currenthour=time.localtime().tm_hour\n",
    "currentminute=time.localtime().tm_min\n",
    "currentsecond=time.localtime().tm_sec\n",
    "currenttime=currenthour*100+currentminute\n",
    "currenttimestamp=api.get_clock().timestamp\n",
    "currenttime"
   ]
  },
  {
   "cell_type": "code",
   "execution_count": 10,
   "metadata": {},
   "outputs": [
    {
     "data": {
      "text/plain": [
       "Quote({   'askexchange': 8,\n",
       "    'askprice': 281,\n",
       "    'asksize': 5,\n",
       "    'bidexchange': 19,\n",
       "    'bidprice': 278.37,\n",
       "    'bidsize': 3,\n",
       "    'timestamp': 1611949145104})"
      ]
     },
     "execution_count": 10,
     "metadata": {},
     "output_type": "execute_result"
    }
   ],
   "source": [
    "api.polygon.last_quote('GME')"
   ]
  },
  {
   "cell_type": "code",
   "execution_count": 11,
   "metadata": {},
   "outputs": [
    {
     "name": "stderr",
     "output_type": "stream",
     "text": [
      "sleep 3 seconds and retrying https://api.alpaca.markets/v2/positions 3 more time(s)...\n",
      "sleep 3 seconds and retrying https://api.alpaca.markets/v2/positions 3 more time(s)...\n",
      "sleep 3 seconds and retrying https://api.alpaca.markets/v2/positions 3 more time(s)...\n",
      "sleep 3 seconds and retrying https://api.alpaca.markets/v2/positions 3 more time(s)...\n",
      "sleep 3 seconds and retrying https://api.alpaca.markets/v2/positions 3 more time(s)...\n",
      "sleep 3 seconds and retrying https://api.alpaca.markets/v2/positions 3 more time(s)...\n",
      "sleep 3 seconds and retrying https://api.alpaca.markets/v2/positions 3 more time(s)...\n",
      "sleep 3 seconds and retrying https://api.alpaca.markets/v2/positions 3 more time(s)...\n",
      "sleep 3 seconds and retrying https://api.alpaca.markets/v2/positions 3 more time(s)...\n",
      "sleep 3 seconds and retrying https://api.alpaca.markets/v2/positions 3 more time(s)...\n",
      "sleep 3 seconds and retrying https://api.alpaca.markets/v2/positions 3 more time(s)...\n",
      "sleep 3 seconds and retrying https://api.alpaca.markets/v2/positions 3 more time(s)...\n",
      "sleep 3 seconds and retrying https://api.alpaca.markets/v2/positions 3 more time(s)...\n",
      "sleep 3 seconds and retrying https://api.alpaca.markets/v2/positions 3 more time(s)...\n",
      "sleep 3 seconds and retrying https://api.alpaca.markets/v2/positions 3 more time(s)...\n",
      "sleep 3 seconds and retrying https://api.alpaca.markets/v2/positions 3 more time(s)...\n",
      "sleep 3 seconds and retrying https://api.alpaca.markets/v2/positions 3 more time(s)...\n",
      "sleep 3 seconds and retrying https://api.alpaca.markets/v2/positions 3 more time(s)...\n",
      "sleep 3 seconds and retrying https://api.alpaca.markets/v2/positions 3 more time(s)...\n",
      "sleep 3 seconds and retrying https://api.alpaca.markets/v2/positions 3 more time(s)...\n",
      "sleep 3 seconds and retrying https://api.alpaca.markets/v2/positions 3 more time(s)...\n",
      "sleep 3 seconds and retrying https://api.alpaca.markets/v2/positions 3 more time(s)...\n",
      "sleep 3 seconds and retrying https://api.alpaca.markets/v2/positions 3 more time(s)...\n",
      "sleep 3 seconds and retrying https://api.alpaca.markets/v2/positions 3 more time(s)...\n",
      "sleep 3 seconds and retrying https://api.alpaca.markets/v2/positions 3 more time(s)...\n",
      "sleep 3 seconds and retrying https://api.alpaca.markets/v2/positions 3 more time(s)...\n",
      "sleep 3 seconds and retrying https://api.alpaca.markets/v2/positions 3 more time(s)...\n",
      "sleep 3 seconds and retrying https://api.alpaca.markets/v2/positions 3 more time(s)...\n",
      "sleep 3 seconds and retrying https://api.alpaca.markets/v2/positions 3 more time(s)...\n",
      "sleep 3 seconds and retrying https://api.alpaca.markets/v2/positions 3 more time(s)...\n",
      "sleep 3 seconds and retrying https://api.alpaca.markets/v2/positions 3 more time(s)...\n",
      "sleep 3 seconds and retrying https://api.alpaca.markets/v2/positions 3 more time(s)...\n",
      "sleep 3 seconds and retrying https://api.alpaca.markets/v2/positions 3 more time(s)...\n",
      "sleep 3 seconds and retrying https://api.alpaca.markets/v2/positions 3 more time(s)...\n",
      "sleep 3 seconds and retrying https://api.alpaca.markets/v2/positions 3 more time(s)...\n",
      "sleep 3 seconds and retrying https://api.alpaca.markets/v2/positions 3 more time(s)...\n",
      "sleep 3 seconds and retrying https://api.alpaca.markets/v2/positions 3 more time(s)...\n"
     ]
    },
    {
     "ename": "KeyboardInterrupt",
     "evalue": "",
     "output_type": "error",
     "traceback": [
      "\u001b[1;31m---------------------------------------------------------------------------\u001b[0m",
      "\u001b[1;31mKeyboardInterrupt\u001b[0m                         Traceback (most recent call last)",
      "\u001b[1;32m<ipython-input-11-cfe408281e1e>\u001b[0m in \u001b[0;36m<module>\u001b[1;34m\u001b[0m\n\u001b[0;32m     76\u001b[0m                 \u001b[0mprint\u001b[0m\u001b[1;33m(\u001b[0m\u001b[1;34m'error'\u001b[0m\u001b[1;33m)\u001b[0m\u001b[1;33m\u001b[0m\u001b[0m\n\u001b[0;32m     77\u001b[0m \u001b[1;33m\u001b[0m\u001b[0m\n\u001b[1;32m---> 78\u001b[1;33m     \u001b[0mtime\u001b[0m\u001b[1;33m.\u001b[0m\u001b[0msleep\u001b[0m\u001b[1;33m(\u001b[0m\u001b[1;36m1\u001b[0m\u001b[1;33m)\u001b[0m\u001b[1;33m\u001b[0m\u001b[0m\n\u001b[0m\u001b[0;32m     79\u001b[0m \u001b[1;33m\u001b[0m\u001b[0m\n",
      "\u001b[1;31mKeyboardInterrupt\u001b[0m: "
     ]
    }
   ],
   "source": [
    "#Limit sell all within a \n",
    "trade1=True\n",
    "trade11=True\n",
    "trade12=True\n",
    "trade2=True\n",
    "trade3=True\n",
    "trade4=False\n",
    "trade5=False\n",
    "while trade3==True:\n",
    "    #\n",
    "    currenthour=time.localtime().tm_hour\n",
    "    currentminute=time.localtime().tm_min\n",
    "    currentsecond=time.localtime().tm_sec\n",
    "    currenttime=currenthour*100+currentminute\n",
    "    \n",
    "    if currenttime >=630 and currenttime <=1300: \n",
    "        try:\n",
    "            assetlist=api.list_positions()\n",
    "        except:\n",
    "            print('http error')\n",
    "        for asset in assetlist:\n",
    "                #if asset is in list of positions AND is more than 2.5% loss\n",
    "                # sell and turn that symbol to null\n",
    "            try:\n",
    "                if asset.symbol=='GME':\n",
    "                    symbol=asset.symbol\n",
    "\n",
    "                    quoten=api.polygon.last_quote(symbol)\n",
    "                    buyprice=quoten.askprice\n",
    "                    if trade1==True and buyprice >= 600:\n",
    "                        #openPo/sition = api.get_position(asset.symbol)\n",
    "                        #asksize,bidsize,avgbidprice,avgaskprice=quotelister(quotes)\n",
    "                        returned = api.submit_order('GME',int(12),\"sell\",\"trailing_stop\",\"gtc\",trail_price=20) # Market order to fully close position\n",
    "                        print('Sell 1'+symbol)\n",
    "                        trade1=False\n",
    "                        trade4=True\n",
    "                    if trade11==True and buyprice >= 800:\n",
    "                        #openPo/sition = api.get_position(asset.symbol)\n",
    "                        #asksize,bidsize,avgbidprice,avgaskprice=quotelister(quotes)\n",
    "                        returned = api.submit_order('GME',int(11),\"sell\",\"trailing_stop\",\"gtc\",trail_price=30) # Market order to fully close position\n",
    "                        print('Sell 11'+symbol)\n",
    "                        trade11=False\n",
    "                        trade5=True\n",
    "                    if trade12==True and buyprice >= 2500:\n",
    "                        #openPo/sition = api.get_position(asset.symbol)\n",
    "                        #asksize,bidsize,avgbidprice,avgaskprice=quotelister(quotes)\n",
    "                        returned = api.submit_order('GME',int(13),\"sell\",\"trailing_stop\",\"gtc\",trail_price=70) # Market order to fully close position\n",
    "                        print('Sell 12'+symbol)\n",
    "                        trade12=False\n",
    "                    if trade2==True and buyprice >= 2200:\n",
    "                        #openPo/sition = api.get_position(asset.symbol)\n",
    "                        #asksize,bidsize,avgbidprice,avgaskprice=quotelister(quotes)\n",
    "                        returned = api.submit_order('GME',int(12),\"sell\",\"trailing_stop\",\"gtc\",trail_price=80) # Market order to fully close position\n",
    "                        print('Sell 2'+symbol)\n",
    "                        trade2=False\n",
    "                    if trade3==True and buyprice >= 2300:\n",
    "                        #openPo/sition = api.get_position(asset.symbol)\n",
    "                        #asksize,bidsize,avgbidprice,avgaskprice=quotelister(quotes)\n",
    "                        returned = api.submit_order('GME',int(2),\"sell\",\"trailing_stop\",\"gtc\",trail_price=90) # Market order to fully close position\n",
    "                        print('Sell 3'+symbol)\n",
    "                        trade3=False\n",
    "                    if trade4==True and buyprice <= 220 and currenttime <=1000:\n",
    "                        #openPo/sition = api.get_position(asset.symbol)\n",
    "                        #asksize,bidsize,avgbidprice,avgaskprice=quotelister(quotes)\n",
    "                        returned = api.submit_order('GME',int(12),\"buy\",\"trailing_stop\",\"day\",trail_price=10) # Market order to fully close position\n",
    "                        print('Sell 1'+symbol)\n",
    "                        trade4=False\n",
    "                        trade1=True\n",
    "                    \n",
    "                    if trade5==True and buyprice <= 300 and currenttime <=1000:\n",
    "                        #openPo/sition = api.get_position(asset.symbol)\n",
    "                        #asksize,bidsize,avgbidprice,avgaskprice=quotelister(quotes)\n",
    "                        returned = api.submit_order('GME',int(12),\"buy\",\"trailing_stop\",\"day\",trail_price=20) # Market order to fully close position\n",
    "                        print('Sell 1'+symbol)\n",
    "                        trade5=False\n",
    "                        trade11=True\n",
    "            except:\n",
    "                print('error')\n",
    "\n",
    "    time.sleep(1)\n",
    "\n"
   ]
  },
  {
   "cell_type": "code",
   "execution_count": null,
   "metadata": {},
   "outputs": [],
   "source": []
  },
  {
   "cell_type": "code",
   "execution_count": null,
   "metadata": {},
   "outputs": [],
   "source": []
  },
  {
   "cell_type": "code",
   "execution_count": null,
   "metadata": {},
   "outputs": [],
   "source": []
  }
 ],
 "metadata": {
  "kernelspec": {
   "display_name": "Python 3",
   "language": "python",
   "name": "python3"
  },
  "language_info": {
   "codemirror_mode": {
    "name": "ipython",
    "version": 3
   },
   "file_extension": ".py",
   "mimetype": "text/x-python",
   "name": "python",
   "nbconvert_exporter": "python",
   "pygments_lexer": "ipython3",
   "version": "3.6.5"
  }
 },
 "nbformat": 4,
 "nbformat_minor": 4
}
